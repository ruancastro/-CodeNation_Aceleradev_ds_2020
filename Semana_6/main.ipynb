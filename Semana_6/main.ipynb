{
 "cells": [
  {
   "cell_type": "markdown",
   "metadata": {},
   "source": [
    "# Desafio 5\n",
    "\n",
    "Neste desafio, vamos praticar sobre redução de dimensionalidade com PCA e seleção de variáveis com RFE. Utilizaremos o _data set_ [Fifa 2019](https://www.kaggle.com/karangadiya/fifa19), contendo originalmente 89 variáveis de mais de 18 mil jogadores do _game_ FIFA 2019.\n",
    "\n",
    "> Obs.: Por favor, não modifique o nome das funções de resposta."
   ]
  },
  {
   "cell_type": "markdown",
   "metadata": {},
   "source": [
    "## _Setup_ geral"
   ]
  },
  {
   "cell_type": "code",
   "execution_count": 84,
   "metadata": {},
   "outputs": [],
   "source": [
    "from math import sqrt\n",
    "\n",
    "import pandas as pd\n",
    "import matplotlib.pyplot as plt\n",
    "import numpy as np\n",
    "import scipy.stats as sct\n",
    "import seaborn as sns\n",
    "import statsmodels.api as sm\n",
    "import statsmodels.stats as st\n",
    "from sklearn.decomposition import PCA\n",
    "\n",
    "from sklearn.feature_selection import RFE\n",
    "from sklearn.linear_model import LinearRegression\n",
    "\n",
    "from loguru import logger"
   ]
  },
  {
   "cell_type": "code",
   "execution_count": 23,
   "metadata": {},
   "outputs": [],
   "source": [
    "# Algumas configurações para o matplotlib.\n",
    "# %matplotlib inline\n",
    "\n",
    "from IPython.core.pylabtools import figsize\n",
    "\n",
    "\n",
    "figsize(12, 8)\n",
    "\n",
    "sns.set()"
   ]
  },
  {
   "cell_type": "code",
   "execution_count": 106,
   "metadata": {
    "scrolled": false
   },
   "outputs": [],
   "source": [
    "fifa = pd.read_csv(\"fifa.csv\")"
   ]
  },
  {
   "cell_type": "code",
   "execution_count": 107,
   "metadata": {},
   "outputs": [],
   "source": [
    "columns_to_drop = [\"Unnamed: 0\", \"ID\", \"Name\", \"Photo\", \"Nationality\", \"Flag\",\n",
    "                   \"Club\", \"Club Logo\", \"Value\", \"Wage\", \"Special\", \"Preferred Foot\",\n",
    "                   \"International Reputation\", \"Weak Foot\", \"Skill Moves\", \"Work Rate\",\n",
    "                   \"Body Type\", \"Real Face\", \"Position\", \"Jersey Number\", \"Joined\",\n",
    "                   \"Loaned From\", \"Contract Valid Until\", \"Height\", \"Weight\", \"LS\",\n",
    "                   \"ST\", \"RS\", \"LW\", \"LF\", \"CF\", \"RF\", \"RW\", \"LAM\", \"CAM\", \"RAM\", \"LM\",\n",
    "                   \"LCM\", \"CM\", \"RCM\", \"RM\", \"LWB\", \"LDM\", \"CDM\", \"RDM\", \"RWB\", \"LB\", \"LCB\",\n",
    "                   \"CB\", \"RCB\", \"RB\", \"Release Clause\"\n",
    "]\n",
    "\n",
    "try:\n",
    "    fifa.drop(columns_to_drop, axis=1, inplace=True)\n",
    "except KeyError:\n",
    "    logger.warning(f\"Columns already dropped\")"
   ]
  },
  {
   "cell_type": "markdown",
   "metadata": {},
   "source": [
    "## Inicia sua análise a partir daqui"
   ]
  },
  {
   "cell_type": "code",
   "execution_count": 108,
   "metadata": {},
   "outputs": [
    {
     "output_type": "execute_result",
     "data": {
      "text/plain": "                  dtypes isna(total)   insa(%)  insa(total)\nAge                int64         NaN  0.000000            0\nOverall            int64         NaN  0.000000            0\nPotential          int64         NaN  0.000000            0\nCrossing         float64         NaN  0.002636           48\nFinishing        float64         NaN  0.002636           48\nHeadingAccuracy  float64         NaN  0.002636           48\nShortPassing     float64         NaN  0.002636           48\nVolleys          float64         NaN  0.002636           48\nDribbling        float64         NaN  0.002636           48\nCurve            float64         NaN  0.002636           48\nFKAccuracy       float64         NaN  0.002636           48\nLongPassing      float64         NaN  0.002636           48\nBallControl      float64         NaN  0.002636           48\nAcceleration     float64         NaN  0.002636           48\nSprintSpeed      float64         NaN  0.002636           48\nAgility          float64         NaN  0.002636           48\nReactions        float64         NaN  0.002636           48\nBalance          float64         NaN  0.002636           48\nShotPower        float64         NaN  0.002636           48\nJumping          float64         NaN  0.002636           48\nStamina          float64         NaN  0.002636           48\nStrength         float64         NaN  0.002636           48\nLongShots        float64         NaN  0.002636           48\nAggression       float64         NaN  0.002636           48\nInterceptions    float64         NaN  0.002636           48\nPositioning      float64         NaN  0.002636           48\nVision           float64         NaN  0.002636           48\nPenalties        float64         NaN  0.002636           48\nComposure        float64         NaN  0.002636           48\nMarking          float64         NaN  0.002636           48\nStandingTackle   float64         NaN  0.002636           48\nSlidingTackle    float64         NaN  0.002636           48\nGKDiving         float64         NaN  0.002636           48\nGKHandling       float64         NaN  0.002636           48\nGKKicking        float64         NaN  0.002636           48\nGKPositioning    float64         NaN  0.002636           48\nGKReflexes       float64         NaN  0.002636           48",
      "text/html": "<div>\n<style scoped>\n    .dataframe tbody tr th:only-of-type {\n        vertical-align: middle;\n    }\n\n    .dataframe tbody tr th {\n        vertical-align: top;\n    }\n\n    .dataframe thead th {\n        text-align: right;\n    }\n</style>\n<table border=\"1\" class=\"dataframe\">\n  <thead>\n    <tr style=\"text-align: right;\">\n      <th></th>\n      <th>dtypes</th>\n      <th>isna(total)</th>\n      <th>insa(%)</th>\n      <th>insa(total)</th>\n    </tr>\n  </thead>\n  <tbody>\n    <tr>\n      <th>Age</th>\n      <td>int64</td>\n      <td>NaN</td>\n      <td>0.000000</td>\n      <td>0</td>\n    </tr>\n    <tr>\n      <th>Overall</th>\n      <td>int64</td>\n      <td>NaN</td>\n      <td>0.000000</td>\n      <td>0</td>\n    </tr>\n    <tr>\n      <th>Potential</th>\n      <td>int64</td>\n      <td>NaN</td>\n      <td>0.000000</td>\n      <td>0</td>\n    </tr>\n    <tr>\n      <th>Crossing</th>\n      <td>float64</td>\n      <td>NaN</td>\n      <td>0.002636</td>\n      <td>48</td>\n    </tr>\n    <tr>\n      <th>Finishing</th>\n      <td>float64</td>\n      <td>NaN</td>\n      <td>0.002636</td>\n      <td>48</td>\n    </tr>\n    <tr>\n      <th>HeadingAccuracy</th>\n      <td>float64</td>\n      <td>NaN</td>\n      <td>0.002636</td>\n      <td>48</td>\n    </tr>\n    <tr>\n      <th>ShortPassing</th>\n      <td>float64</td>\n      <td>NaN</td>\n      <td>0.002636</td>\n      <td>48</td>\n    </tr>\n    <tr>\n      <th>Volleys</th>\n      <td>float64</td>\n      <td>NaN</td>\n      <td>0.002636</td>\n      <td>48</td>\n    </tr>\n    <tr>\n      <th>Dribbling</th>\n      <td>float64</td>\n      <td>NaN</td>\n      <td>0.002636</td>\n      <td>48</td>\n    </tr>\n    <tr>\n      <th>Curve</th>\n      <td>float64</td>\n      <td>NaN</td>\n      <td>0.002636</td>\n      <td>48</td>\n    </tr>\n    <tr>\n      <th>FKAccuracy</th>\n      <td>float64</td>\n      <td>NaN</td>\n      <td>0.002636</td>\n      <td>48</td>\n    </tr>\n    <tr>\n      <th>LongPassing</th>\n      <td>float64</td>\n      <td>NaN</td>\n      <td>0.002636</td>\n      <td>48</td>\n    </tr>\n    <tr>\n      <th>BallControl</th>\n      <td>float64</td>\n      <td>NaN</td>\n      <td>0.002636</td>\n      <td>48</td>\n    </tr>\n    <tr>\n      <th>Acceleration</th>\n      <td>float64</td>\n      <td>NaN</td>\n      <td>0.002636</td>\n      <td>48</td>\n    </tr>\n    <tr>\n      <th>SprintSpeed</th>\n      <td>float64</td>\n      <td>NaN</td>\n      <td>0.002636</td>\n      <td>48</td>\n    </tr>\n    <tr>\n      <th>Agility</th>\n      <td>float64</td>\n      <td>NaN</td>\n      <td>0.002636</td>\n      <td>48</td>\n    </tr>\n    <tr>\n      <th>Reactions</th>\n      <td>float64</td>\n      <td>NaN</td>\n      <td>0.002636</td>\n      <td>48</td>\n    </tr>\n    <tr>\n      <th>Balance</th>\n      <td>float64</td>\n      <td>NaN</td>\n      <td>0.002636</td>\n      <td>48</td>\n    </tr>\n    <tr>\n      <th>ShotPower</th>\n      <td>float64</td>\n      <td>NaN</td>\n      <td>0.002636</td>\n      <td>48</td>\n    </tr>\n    <tr>\n      <th>Jumping</th>\n      <td>float64</td>\n      <td>NaN</td>\n      <td>0.002636</td>\n      <td>48</td>\n    </tr>\n    <tr>\n      <th>Stamina</th>\n      <td>float64</td>\n      <td>NaN</td>\n      <td>0.002636</td>\n      <td>48</td>\n    </tr>\n    <tr>\n      <th>Strength</th>\n      <td>float64</td>\n      <td>NaN</td>\n      <td>0.002636</td>\n      <td>48</td>\n    </tr>\n    <tr>\n      <th>LongShots</th>\n      <td>float64</td>\n      <td>NaN</td>\n      <td>0.002636</td>\n      <td>48</td>\n    </tr>\n    <tr>\n      <th>Aggression</th>\n      <td>float64</td>\n      <td>NaN</td>\n      <td>0.002636</td>\n      <td>48</td>\n    </tr>\n    <tr>\n      <th>Interceptions</th>\n      <td>float64</td>\n      <td>NaN</td>\n      <td>0.002636</td>\n      <td>48</td>\n    </tr>\n    <tr>\n      <th>Positioning</th>\n      <td>float64</td>\n      <td>NaN</td>\n      <td>0.002636</td>\n      <td>48</td>\n    </tr>\n    <tr>\n      <th>Vision</th>\n      <td>float64</td>\n      <td>NaN</td>\n      <td>0.002636</td>\n      <td>48</td>\n    </tr>\n    <tr>\n      <th>Penalties</th>\n      <td>float64</td>\n      <td>NaN</td>\n      <td>0.002636</td>\n      <td>48</td>\n    </tr>\n    <tr>\n      <th>Composure</th>\n      <td>float64</td>\n      <td>NaN</td>\n      <td>0.002636</td>\n      <td>48</td>\n    </tr>\n    <tr>\n      <th>Marking</th>\n      <td>float64</td>\n      <td>NaN</td>\n      <td>0.002636</td>\n      <td>48</td>\n    </tr>\n    <tr>\n      <th>StandingTackle</th>\n      <td>float64</td>\n      <td>NaN</td>\n      <td>0.002636</td>\n      <td>48</td>\n    </tr>\n    <tr>\n      <th>SlidingTackle</th>\n      <td>float64</td>\n      <td>NaN</td>\n      <td>0.002636</td>\n      <td>48</td>\n    </tr>\n    <tr>\n      <th>GKDiving</th>\n      <td>float64</td>\n      <td>NaN</td>\n      <td>0.002636</td>\n      <td>48</td>\n    </tr>\n    <tr>\n      <th>GKHandling</th>\n      <td>float64</td>\n      <td>NaN</td>\n      <td>0.002636</td>\n      <td>48</td>\n    </tr>\n    <tr>\n      <th>GKKicking</th>\n      <td>float64</td>\n      <td>NaN</td>\n      <td>0.002636</td>\n      <td>48</td>\n    </tr>\n    <tr>\n      <th>GKPositioning</th>\n      <td>float64</td>\n      <td>NaN</td>\n      <td>0.002636</td>\n      <td>48</td>\n    </tr>\n    <tr>\n      <th>GKReflexes</th>\n      <td>float64</td>\n      <td>NaN</td>\n      <td>0.002636</td>\n      <td>48</td>\n    </tr>\n  </tbody>\n</table>\n</div>"
     },
     "metadata": {},
     "execution_count": 108
    }
   ],
   "source": [
    "# Sua análise começa aqui.\n",
    "# fifa.head() \n",
    "# fifa.columns\n",
    "Analysys_df = pd.DataFrame(columns=['dtypes','isna(total)','insa(%)'])\n",
    "Analysys_df['dtypes'] = fifa.dtypes\n",
    "Analysys_df['insa(total)'] = fifa.isna().sum()\n",
    "Analysys_df['insa(%)'] = fifa.isna().mean()\n",
    "\n",
    "# Sua análise começa aqui.\n",
    "# fifa.head() \n",
    "# fifa.columns\n",
    "Analysys_df = pd.DataFrame(columns=['dtypes','isna(total)','insa(%)'])\n",
    "Analysys_df['dtypes'] = fifa.dtypes\n",
    "Analysys_df['insa(total)'] = fifa.isna().sum()\n",
    "Analysys_df['insa(%)'] = fifa.isna().mean()\n",
    "\n",
    "# Analysys_df\n",
    "fifa.dropna(inplace=True)\n",
    "Analysys_df"
   ]
  },
  {
   "cell_type": "markdown",
   "metadata": {},
   "source": [
    "## Questão 1\n",
    "\n",
    "Qual fração da variância consegue ser explicada pelo primeiro componente principal de `fifa`? Responda como um único float (entre 0 e 1) arredondado para três casas decimais."
   ]
  },
  {
   "cell_type": "code",
   "execution_count": 112,
   "metadata": {},
   "outputs": [],
   "source": [
    "# pca = PCA()\n",
    "# pca.fit(fifa)\n",
    "# resp_q1 = pca.explained_variance_ratio_[0]"
   ]
  },
  {
   "cell_type": "code",
   "execution_count": 113,
   "metadata": {},
   "outputs": [],
   "source": [
    "def q1():\n",
    "    pca = PCA()\n",
    "    pca.fit(fifa)\n",
    "    resp_q1 = pca.explained_variance_ratio_[0]\n",
    "    # Retorne aqui o resultado da questão 1.\n",
    "    return(round(resp_q1,3))\n",
    "    pass"
   ]
  },
  {
   "cell_type": "markdown",
   "metadata": {},
   "source": [
    "## Questão 2\n",
    "\n",
    "Quantos componentes principais precisamos para explicar 95% da variância total? Responda como un único escalar inteiro."
   ]
  },
  {
   "cell_type": "code",
   "execution_count": 65,
   "metadata": {
    "tags": []
   },
   "outputs": [
    {
     "output_type": "stream",
     "name": "stdout",
     "text": "15 15\n"
    }
   ],
   "source": []
  },
  {
   "cell_type": "code",
   "execution_count": 115,
   "metadata": {},
   "outputs": [],
   "source": [
    "def q2():\n",
    "    pca = PCA(0.95)\n",
    "    pca.fit(fifa)\n",
    "    print(pca.n_components_,\n",
    "    len(pca.explained_variance_ratio_))\n",
    "    resp_q2 = pca.n_components_\n",
    "    return resp_q2\n",
    "    # Retorne aqui o resultado da questão 2.\n",
    "    pass"
   ]
  },
  {
   "cell_type": "markdown",
   "metadata": {},
   "source": [
    "## Questão 3\n",
    "\n",
    "Qual são as coordenadas (primeiro e segundo componentes principais) do ponto `x` abaixo? O vetor abaixo já está centralizado. Cuidado para __não__ centralizar o vetor novamente (por exemplo, invocando `PCA.transform()` nele). Responda como uma tupla de float arredondados para três casas decimais."
   ]
  },
  {
   "cell_type": "code",
   "execution_count": 75,
   "metadata": {},
   "outputs": [],
   "source": [
    "x = [0.87747123,  -1.24990363,  -1.3191255, -36.7341814,\n",
    "     -35.55091139, -37.29814417, -28.68671182, -30.90902583,\n",
    "     -42.37100061, -32.17082438, -28.86315326, -22.71193348,\n",
    "     -38.36945867, -20.61407566, -22.72696734, -25.50360703,\n",
    "     2.16339005, -27.96657305, -33.46004736,  -5.08943224,\n",
    "     -30.21994603,   3.68803348, -36.10997302, -30.86899058,\n",
    "     -22.69827634, -37.95847789, -22.40090313, -30.54859849,\n",
    "     -26.64827358, -19.28162344, -34.69783578, -34.6614351,\n",
    "     48.38377664,  47.60840355,  45.76793876,  44.61110193,\n",
    "     49.28911284\n",
    "]"
   ]
  },
  {
   "cell_type": "code",
   "execution_count": 81,
   "metadata": {
    "tags": []
   },
   "outputs": [
    {
     "output_type": "execute_result",
     "data": {
      "text/plain": "array([186.55588031,  -6.59243177])"
     },
     "metadata": {},
     "execution_count": 81
    }
   ],
   "source": []
  },
  {
   "cell_type": "code",
   "execution_count": 83,
   "metadata": {},
   "outputs": [],
   "source": [
    "def q3(sample=x):\n",
    "    pca = PCA(0.95)\n",
    "    pca.fit(fifa)\n",
    "    return tuple((pca.components_.dot(sample)[:2]).round(3))"
   ]
  },
  {
   "cell_type": "markdown",
   "metadata": {},
   "source": [
    "## Questão 4\n",
    "\n",
    "Realiza RFE com estimador de regressão linear para selecionar cinco variáveis, eliminando uma a uma. Quais são as variáveis selecionadas? Responda como uma lista de nomes de variáveis."
   ]
  },
  {
   "cell_type": "code",
   "execution_count": 109,
   "metadata": {
    "tags": []
   },
   "outputs": [
    {
     "output_type": "execute_result",
     "data": {
      "text/plain": "Index(['Age', 'Overall', 'LongPassing', 'Agility', 'GKPositioning'], dtype='object')"
     },
     "metadata": {},
     "execution_count": 109
    }
   ],
   "source": [
    "# x = fifa.drop(columns=\"Overall\")\n",
    "# y = fifa['Overall']\n",
    "\n",
    "# classifier = LinearRegression()\n",
    "# feature_selector = RFE(classifier,n_features_to_select=5)\n",
    "# feature_selector.fit(x,y)\n",
    "# resp_q4 = feature_selector.get_support(indices=True)\n",
    "# resp_q4 = fifa.iloc[0, resp_q4].index\n",
    "# resp_q4\n",
    "    \n"
   ]
  },
  {
   "cell_type": "code",
   "execution_count": 116,
   "metadata": {},
   "outputs": [],
   "source": [
    "\n",
    "def q4():\n",
    "    x = fifa.drop(columns=\"Overall\")\n",
    "    y = fifa[\"Overall\"]\n",
    "    \n",
    "    classifier = LinearRegression()\n",
    "    feature_selector = RFE(classifier, n_features_to_select=5)\n",
    "    feature_selector.fit(x, y)\n",
    "    best_features = (feature_selector.get_support(indices=True))\n",
    "    \n",
    "    return list(x.iloc[0, best_features].index)"
   ]
  },
  {
   "cell_type": "code",
   "execution_count": null,
   "metadata": {},
   "outputs": [],
   "source": []
  }
 ],
 "metadata": {
  "kernelspec": {
   "display_name": "Python 3",
   "language": "python",
   "name": "python3"
  },
  "language_info": {
   "codemirror_mode": {
    "name": "ipython",
    "version": 3
   },
   "file_extension": ".py",
   "mimetype": "text/x-python",
   "name": "python",
   "nbconvert_exporter": "python",
   "pygments_lexer": "ipython3",
   "version": "3.7.7-final"
  }
 },
 "nbformat": 4,
 "nbformat_minor": 2
}