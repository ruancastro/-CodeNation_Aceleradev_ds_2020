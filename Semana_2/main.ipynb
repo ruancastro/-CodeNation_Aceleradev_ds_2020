{
 "cells": [
  {
   "cell_type": "markdown",
   "metadata": {},
   "source": [
    "# Desafio 1\n",
    "\n",
    "Para esse desafio, vamos trabalhar com o data set [Black Friday](https://www.kaggle.com/mehdidag/black-friday), que reúne dados sobre transações de compras em uma loja de varejo.\n",
    "\n",
    "Vamos utilizá-lo para praticar a exploração de data sets utilizando pandas. Você pode fazer toda análise neste mesmo notebook, mas as resposta devem estar nos locais indicados.\n",
    "\n",
    "> Obs.: Por favor, não modifique o nome das funções de resposta."
   ]
  },
  {
   "cell_type": "markdown",
   "metadata": {},
   "source": [
    "## _Set up_ da análise"
   ]
  },
  {
   "cell_type": "code",
   "execution_count": 2,
   "metadata": {},
   "outputs": [],
   "source": [
    "import pandas as pd\n",
    "import numpy as np\n",
    "from sklearn import preprocessing\n",
    "import math"
   ]
  },
  {
   "cell_type": "code",
   "execution_count": 3,
   "metadata": {},
   "outputs": [],
   "source": [
    "black_friday = pd.read_csv(\"black_friday.csv\")"
   ]
  },
  {
   "cell_type": "markdown",
   "metadata": {},
   "source": [
    "## Inicie sua análise a partir daqui"
   ]
  },
  {
   "cell_type": "code",
   "execution_count": 7,
   "metadata": {
    "tags": []
   },
   "outputs": [
    {
     "output_type": "stream",
     "name": "stdout",
     "text": "<class 'int'>\n"
    }
   ],
   "source": [
    "#  Quest 1\n",
    "# print(black_friday.info())\n",
    "# print(black_friday.columns)\n",
    "# print(len(black_friday.columns))\n",
    "# print(black_friday.shape)\n",
    "# print(type(black_friday.shape))\n",
    "\n",
    "\n",
    "# Quest 2 \n",
    "\n",
    "# dfq2 = black_friday[(black_friday['Gender'] == 'F') & (black_friday['Age'] == '26-35') ]\n",
    "# x = dfq2['Gender'].value_counts().values\n",
    "# x = int(x)\n",
    "\n",
    "# Quest 3 \n",
    "# black_friday['User_ID'].nunique()\n",
    "\n",
    "# Quest 4\n",
    "# print(black_friday.dtypes.nunique())\n",
    "\n",
    "# Quest 5\n",
    "# float((black_friday.isnull().sum()/len(black_friday)).max())\n",
    "# print(type())\n",
    "# black_friday.isnull().mean().max()\n",
    "\n",
    "# Quest 6\n",
    "# Quantos valores null existem na variável (coluna) com o maior número de null? Responda como um único escalar.\n",
    "# black_friday.isnull().mean()\n",
    "# len(black_friday[black_friday['Product_Category_3'].isnull() == True])\n",
    "\n",
    "# Quest 7 \n",
    "# Qual o valor mais frequente (sem contar nulls) em Product_Category_3? Responda como um único escalar.\n",
    "# float(black_friday['Product_Category_3'].dropna().mode())\n",
    "\n",
    "# Quest 8\n",
    "# Qual a nova média da variável (coluna) Purchase após sua normalização? Responda como um único escalar.\n",
    "# black_friday['Purchase']\n",
    "# norm_purchase=(black_friday['Purchase']-black_friday['Purchase'].min())/(black_friday['Purchase'].max()-black_friday['Purchase'].min())\n",
    "# norm_purchase.mean()\n",
    "\n",
    "# Quest 9\n",
    "# Quantas ocorrências entre -1 e 1 inclusive existem da variáel Purchase após sua padronização? Responda como um único escalar.\n",
    "# scaler = preprocessing.StandardScaler()\n",
    "# x_scaler = scaler.fit_transform(black_friday[['Purchase']])\n",
    "# df_scaler = pd.DataFrame(x_scaler)\n",
    "# df_scaler[(df_scaler[0] >= -1) & (df_scaler[0]<=1)].shape[0]\n",
    "\n",
    "# Quest 10\n",
    "# Podemos afirmar que se uma observação é null em `Product_Category_2` ela também o é em `Product_Category_3`? Responda com um bool (`True`, `False`)\n",
    "# colunas = ['Product_Category_2','Product_Category_3']\n",
    "# df_aux = black_friday[colunas]\n",
    "# # print(df_aux.head(10))\n",
    "\n",
    "# for index, row in df_aux.iterrows():\n",
    "#         if (math.isnan(row['Product_Category_2']) == True) & (math.isnan(row['Product_Category_3']) == True):\n",
    "#             resposta = True\n",
    "#             print(resposta)\n",
    "#             break\n"
   ]
  },
  {
   "cell_type": "markdown",
   "metadata": {},
   "source": [
    "## Questão 1\n",
    "Quantas observações e quantas colunas há no dataset? Responda no formato de uma tuple `(n_observacoes, n_colunas)`."
   ]
  },
  {
   "cell_type": "code",
   "execution_count": 108,
   "metadata": {},
   "outputs": [],
   "source": [
    "def q1():\n",
    "    # Retorne aqui o resultado da questão 1.\n",
    "    return (black_friday.shape)\n",
    "    pass"
   ]
  },
  {
   "cell_type": "markdown",
   "metadata": {},
   "source": [
    "## Questão 2\n",
    "\n",
    "Há quantas mulheres com idade entre 26 e 35 anos no dataset? Responda como um único escalar."
   ]
  },
  {
   "cell_type": "code",
   "execution_count": 56,
   "metadata": {},
   "outputs": [],
   "source": [
    "def q2():\n",
    "    # Retorne aqui o resultado da questão 2.\n",
    "    dfq2 = black_friday[(black_friday['Gender'] == 'F') & (black_friday['Age'] == '26-35') ]\n",
    "    x = dfq2['Gender'].value_counts().values\n",
    "    return int(x[0])\n",
    "    pass"
   ]
  },
  {
   "cell_type": "markdown",
   "metadata": {},
   "source": [
    "## Questão 3\n",
    "\n",
    "Quantos usuários únicos há no dataset? Responda como um único escalar."
   ]
  },
  {
   "cell_type": "code",
   "execution_count": 57,
   "metadata": {},
   "outputs": [],
   "source": [
    "def q3():\n",
    "    # Retorne aqui o resultado da questão 3.\n",
    "    return black_friday['User_ID'].nunique()\n",
    "    pass"
   ]
  },
  {
   "cell_type": "markdown",
   "metadata": {},
   "source": [
    "## Questão 4\n",
    "\n",
    "Quantos tipos de dados diferentes existem no dataset? Responda como um único escalar."
   ]
  },
  {
   "cell_type": "code",
   "execution_count": 23,
   "metadata": {},
   "outputs": [],
   "source": [
    "def q4():\n",
    "    # Retorne aqui o resultado da questão 4.\n",
    "    x = black_friday.dtypes.nunique()\n",
    "    return x\n",
    "    pass"
   ]
  },
  {
   "cell_type": "markdown",
   "metadata": {},
   "source": [
    "## Questão 5\n",
    "\n",
    "Qual porcentagem dos registros possui ao menos um valor null (`None`, `ǸaN` etc)? Responda como um único escalar entre 0 e 1."
   ]
  },
  {
   "cell_type": "code",
   "execution_count": 59,
   "metadata": {},
   "outputs": [],
   "source": [
    "def q5():\n",
    "    # Retorne aqui o resultado da questão 5.\n",
    "    return black_friday.isnull().mean().max()\n",
    "    pass"
   ]
  },
  {
   "cell_type": "markdown",
   "metadata": {},
   "source": [
    "## Questão 6\n",
    "\n",
    "Quantos valores null existem na variável (coluna) com o maior número de null? Responda como um único escalar."
   ]
  },
  {
   "cell_type": "code",
   "execution_count": 60,
   "metadata": {},
   "outputs": [],
   "source": [
    "def q6():\n",
    "    # Retorne aqui o resultado da questão 6.\n",
    "    return len(black_friday[black_friday['Product_Category_3'].isna() == True])\n",
    "    pass"
   ]
  },
  {
   "cell_type": "markdown",
   "metadata": {},
   "source": [
    "## Questão 7\n",
    "\n",
    "Qual o valor mais frequente (sem contar nulls) em `Product_Category_3`? Responda como um único escalar."
   ]
  },
  {
   "cell_type": "code",
   "execution_count": 61,
   "metadata": {},
   "outputs": [],
   "source": [
    "def q7():\n",
    "    # Retorne aqui o resultado da questão 7.\n",
    "    return float(black_friday['Product_Category_3'].dropna().mode())\n",
    "    pass"
   ]
  },
  {
   "cell_type": "markdown",
   "metadata": {},
   "source": [
    "## Questão 8\n",
    "\n",
    "Qual a nova média da variável (coluna) `Purchase` após sua normalização? Responda como um único escalar."
   ]
  },
  {
   "cell_type": "code",
   "execution_count": 62,
   "metadata": {},
   "outputs": [],
   "source": [
    "def q8():\n",
    "    # Retorne aqui o resultado da questão 8.\n",
    "    norm_purchase=(black_friday['Purchase']-black_friday['Purchase'].min())/(black_friday['Purchase'].max()-black_friday['Purchase'].min())\n",
    "    return norm_purchase.mean()\n",
    "    pass"
   ]
  },
  {
   "cell_type": "markdown",
   "metadata": {},
   "source": [
    "## Questão 9\n",
    "\n",
    "Quantas ocorrências entre -1 e 1 inclusive existem da variáel `Purchase` após sua padronização? Responda como um único escalar."
   ]
  },
  {
   "cell_type": "code",
   "execution_count": 63,
   "metadata": {},
   "outputs": [],
   "source": [
    "def q9():\n",
    "    # Retorne aqui o resultado da questão 9.\n",
    "    scaler = preprocessing.StandardScaler()\n",
    "    x_scaler = scaler.fit_transform(black_friday[['Purchase']])\n",
    "    df_scaler = pd.DataFrame(x_scaler)\n",
    "    return df_scaler[(df_scaler[0] >= -1) & (df_scaler[0]<=1)].shape[0]\n",
    "    pass"
   ]
  },
  {
   "cell_type": "markdown",
   "metadata": {},
   "source": [
    "## Questão 10\n",
    "\n",
    "Podemos afirmar que se uma observação é null em `Product_Category_2` ela também o é em `Product_Category_3`? Responda com um bool (`True`, `False`)."
   ]
  },
  {
   "cell_type": "code",
   "execution_count": 64,
   "metadata": {},
   "outputs": [],
   "source": [
    "def q10():\n",
    "    # Retorne aqui o resultado da questão 10.\n",
    "    colunas = ['Product_Category_2','Product_Category_3']\n",
    "    df_aux = black_friday[colunas]\n",
    "    for index, row in df_aux.iterrows():\n",
    "        if (math.isnan(row['Product_Category_2']) == True) & (math.isnan(row['Product_Category_3']) == True):\n",
    "            resposta = True\n",
    "            break\n",
    "    return resposta\n",
    "    pass"
   ]
  }
 ],
 "metadata": {
  "kernelspec": {
   "display_name": "Python 3",
   "language": "python",
   "name": "python3"
  },
  "language_info": {
   "codemirror_mode": {
    "name": "ipython",
    "version": 3
   },
   "file_extension": ".py",
   "mimetype": "text/x-python",
   "name": "python",
   "nbconvert_exporter": "python",
   "pygments_lexer": "ipython3",
   "version": "3.6.9-final"
  }
 },
 "nbformat": 4,
 "nbformat_minor": 2
}